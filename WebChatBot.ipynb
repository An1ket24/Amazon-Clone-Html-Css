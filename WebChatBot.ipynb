{
  "nbformat": 4,
  "nbformat_minor": 0,
  "metadata": {
    "colab": {
      "provenance": [],
      "authorship_tag": "ABX9TyOC7X5ouuR7mg6hE3300ZTw",
      "include_colab_link": true
    },
    "kernelspec": {
      "name": "python3",
      "display_name": "Python 3"
    },
    "language_info": {
      "name": "python"
    }
  },
  "cells": [
    {
      "cell_type": "markdown",
      "metadata": {
        "id": "view-in-github",
        "colab_type": "text"
      },
      "source": [
        "<a href=\"https://colab.research.google.com/github/An1ket24/Amazon-Clone-Html-Css/blob/main/WebChatBot.ipynb\" target=\"_parent\"><img src=\"https://colab.research.google.com/assets/colab-badge.svg\" alt=\"Open In Colab\"/></a>"
      ]
    },
    {
      "cell_type": "code",
      "execution_count": 22,
      "metadata": {
        "id": "dX2W59f151Xl"
      },
      "outputs": [],
      "source": [
        "!pip install -q langchain langchain-google-genai duckduckgo-search langchain-community"
      ]
    },
    {
      "cell_type": "code",
      "source": [
        "from langchain_community.tools import DuckDuckGoSearchRun\n",
        "\n",
        "user_input = \"India vs Pakistan war 2025\"\n",
        "\n",
        "search = DuckDuckGoSearchRun()\n",
        "\n",
        "search_content = search.invoke(user_input)\n",
        "\n",
        "print(search_content)\n",
        "\n",
        "\n",
        "\n",
        "\n"
      ],
      "metadata": {
        "colab": {
          "base_uri": "https://localhost:8080/"
        },
        "id": "unmCl66152w2",
        "outputId": "d780db23-1404-43b2-de18-d8ba7987e4c7"
      },
      "execution_count": 23,
      "outputs": [
        {
          "output_type": "stream",
          "name": "stdout",
          "text": [
            "The 2025 India–Pakistan conflict was a brief armed conflict between India and Pakistan that began on 7 May 2025, after India … Jun 4, 2025 · In May 2025, a war like situation between India and Pakistan emerged following an Indian False Flag … May 12, 2025 · The final quarter of 2024 saw a marked deterioration in India-Pakistan relations, with a series of political and … May 28, 2025 · Following a terrorist attack on April 22, India launched punitive strikes on Pakistan on May 7. This began a four … Jun 7, 2025 · Analysis: The May 2025 conflict between India and Pakistan marked the most intense use of force between …\n"
          ]
        },
        {
          "output_type": "stream",
          "name": "stderr",
          "text": [
            "/usr/local/lib/python3.11/dist-packages/langchain_community/utilities/duckduckgo_search.py:63: RuntimeWarning: This package (`duckduckgo_search`) has been renamed to `ddgs`! Use `pip install ddgs` instead.\n",
            "  with DDGS() as ddgs:\n"
          ]
        }
      ]
    },
    {
      "cell_type": "code",
      "source": [
        "from langchain_core.prompts import PromptTemplate\n",
        "from langchain_google_genai import ChatGoogleGenerativeAI\n",
        "from langchain_core.output_parsers import StrOutputParser\n",
        "\n",
        "from google.colab import userdata\n",
        "gemini_api_key = userdata.get('google')\n",
        "summarizer_prompt = PromptTemplate.from_template(\"\"\"\n",
        "\n",
        "You are a helpful research assistant.\n",
        "\n",
        "Please summarize the following content into 4–5 clear, informative bullet points:\n",
        "\n",
        "{content}\n",
        "\n",
        "\"\"\")\n",
        "\n",
        "llm = ChatGoogleGenerativeAI(model=\"gemini-1.5-flash\",google_api_key=gemini_api_key)\n",
        "\n",
        "summarizer_chain = summarizer_prompt | llm | StrOutputParser()\n",
        "\n",
        "summary = summarizer_chain.invoke({\"content\":search_content})\n",
        "\n",
        "print(summary)"
      ],
      "metadata": {
        "colab": {
          "base_uri": "https://localhost:8080/"
        },
        "id": "JVhD1Pio6HB-",
        "outputId": "f547d7ab-2e3b-4648-e110-6280ecb85b4b"
      },
      "execution_count": 29,
      "outputs": [
        {
          "output_type": "stream",
          "name": "stdout",
          "text": [
            "* **Conflict Trigger:** The 2025 India-Pakistan conflict stemmed from escalating tensions, culminating in a punitive Indian military strike on Pakistan on May 7th, 2025, following a terrorist attack on April 22nd.\n",
            "\n",
            "* **Conflict Duration:** The conflict was relatively brief, lasting approximately one month (May-June 2025).\n",
            "\n",
            "* **Escalation:**  A significant deterioration in India-Pakistan relations throughout late 2024 laid the groundwork for the armed conflict in 2025.  Allegations of a false flag operation further exacerbated the situation.\n",
            "\n",
            "* **Intensity:** The conflict represented the most intense military engagement between India and Pakistan in recent history.\n",
            "\n",
            "* **Cause:** While the immediate trigger was India's military response to a terrorist attack, underlying political and strategic tensions were the root cause of the conflict.\n"
          ]
        }
      ]
    },
    {
      "cell_type": "code",
      "source": [
        "linkedin_prompt = PromptTemplate.from_template(\"\"\"\n",
        "\n",
        "You are an expert social media strategist and content writer.\n",
        "\n",
        "Your task is to transform the following summary into Linkedin Post:\n",
        "\n",
        "Guidelines:\n",
        "   - Write in a professional, insightful, and informative tone.\n",
        "   - Use industry-relevant hashtags.\n",
        "   - Aim to educate or inspire professionals.\n",
        "   - Emphasize innovation, value, or impact.\n",
        "\n",
        "{summary}\n",
        "\n",
        "\"\"\")\n",
        "\n",
        "linkedin_chain = linkedin_prompt | llm | StrOutputParser()\n",
        "\n",
        "\n",
        "\n",
        "# print(linkedin_post)"
      ],
      "metadata": {
        "id": "Wx-wpJ7g8xMF"
      },
      "execution_count": 42,
      "outputs": []
    },
    {
      "cell_type": "code",
      "source": [
        "facebook_prompt = PromptTemplate.from_template(\"\"\"\n",
        "\n",
        "You are a professional social media strategist.\n",
        "Transform the following summary into a Facebook post with a professional yet conversational tone.\n",
        "\n",
        "Highlight the innovation, value, or impact.\n",
        "\n",
        "Make it informative but engaging.\n",
        "\n",
        "Use 4–6 relevant hashtags.\n",
        "\n",
        "Encourage curiosity or reflection.\n",
        "\n",
        "{summary}\n",
        "\n",
        "\"\"\")\n",
        "\n",
        "facebook_chain = facebook_prompt | llm | StrOutputParser()\n",
        "\n",
        "\n",
        "\n",
        "# print(facebook_post)"
      ],
      "metadata": {
        "id": "UlR9RCy6-Onu"
      },
      "execution_count": 43,
      "outputs": []
    },
    {
      "cell_type": "code",
      "source": [
        "twitter_prompt = PromptTemplate.from_template(\"\"\"\n",
        "\n",
        "You are a social media content expert.\n",
        "Convert the following summary into a Twitter (X) post that is concise, impactful, and professional.\n",
        "\n",
        "Keep it under 280 characters.\n",
        "\n",
        "Emphasize innovation, insight, or value.\n",
        "\n",
        "Use 3–5 trending or industry-relevant hashtags.\n",
        "\n",
        "{summary}\n",
        "\n",
        "\"\"\")\n",
        "\n",
        "twitter_chain = twitter_prompt | llm | StrOutputParser()\n",
        "\n",
        "\n",
        "\n",
        "# print(twitter_post)"
      ],
      "metadata": {
        "id": "-MkO9h6M-jFA"
      },
      "execution_count": 44,
      "outputs": []
    },
    {
      "cell_type": "code",
      "source": [
        "from langchain_core.runnables import RunnableParallel\n",
        "parallel_chain = RunnableParallel({\n",
        "    \"linkedin\":linkedin_chain,\n",
        "    \"fb\":facebook_chain,\n",
        "    \"twitter\":twitter_chain})\n",
        "result = parallel_chain.invoke({\"summary\":summary})\n",
        "print(result)\n",
        "for platform,content in result.items():\n",
        "  print(f\"{platform}:\\n {content}\")"
      ],
      "metadata": {
        "colab": {
          "base_uri": "https://localhost:8080/"
        },
        "id": "pfX1x2AwAB9d",
        "outputId": "a628a71d-480b-43f0-a35a-bff4c43c9390"
      },
      "execution_count": 51,
      "outputs": [
        {
          "output_type": "stream",
          "name": "stdout",
          "text": [
            "{'linkedin': \"## The 2025 India-Pakistan Conflict: A Wake-Up Call for Geopolitical Strategists\\n\\nThe brief but intense military conflict between India and Pakistan in May-June 2025 serves as a stark reminder of the fragility of peace and the devastating consequences of escalating tensions.  While a terrorist attack on April 22nd acted as the immediate trigger for India's military response, the conflict's roots lie in a steadily deteriorating relationship between the two nations throughout 2024.  Allegations of a false-flag operation further inflamed the situation, pushing the two nuclear powers to the brink.\\n\\nThis conflict, the most intense military engagement between India and Pakistan in recent history, underscores the critical need for proactive diplomatic solutions and a deeper understanding of the complex geopolitical dynamics at play.  The rapid escalation highlights the potential for even seemingly localized events to spiral into wider conflicts with devastating global implications.\\n\\nFor professionals in international relations, defense strategy, and conflict resolution, the 2025 crisis presents a critical case study.  Analyzing the events leading up to the conflict, the strategic decisions made by both sides, and the ultimate outcome is crucial for developing effective preventative measures and conflict mitigation strategies in the future.  We must learn from this near-miss to prevent similar escalations and build a more secure and stable world.\\n\\nLet's discuss: What lessons can we learn from the 2025 India-Pakistan conflict?  Share your insights in the comments.\\n\\n#Geopolitics #InternationalRelations #IndiaPakistan #ConflictResolution #DefenseStrategy #GlobalSecurity #StrategicStudies #CrisisManagement #SouthAsia #NuclearProliferation\", 'fb': \"🤯  A Month That Shook the World: The 2025 India-Pakistan Conflict\\n\\nThe escalating tensions between India and Pakistan weren't just headlines; they culminated in a devastatingly short but intensely impactful military conflict in May-June 2025.  What started with a terrorist attack on April 22nd and India's subsequent response spiraled into the most serious military engagement between the two nations in recent history.  This wasn't just a flashpoint; years of deteriorating relations and accusations of deception fueled the flames.\\n\\nThink about it: a month-long conflict that dramatically reshaped the geopolitical landscape.  What were the long-term consequences? What lessons can we learn from this intense period?  Let's discuss in the comments! 👇\\n\\n#IndiaPakistanConflict #Geopolitics #InternationalRelations #MilitaryConflict #SouthAsia #GlobalSecurity\", 'twitter': 'India-Pakistan conflict (May-June 2025): A month of intense military engagement, triggered by escalating tensions & a terrorist attack.  Underlying political factors fueled this unprecedented crisis. #IndiaPakistanConflict #Geopolitics #SouthAsia #InternationalRelations #MilitaryConflict'}\n",
            "linkedin:\n",
            " ## The 2025 India-Pakistan Conflict: A Wake-Up Call for Geopolitical Strategists\n",
            "\n",
            "The brief but intense military conflict between India and Pakistan in May-June 2025 serves as a stark reminder of the fragility of peace and the devastating consequences of escalating tensions.  While a terrorist attack on April 22nd acted as the immediate trigger for India's military response, the conflict's roots lie in a steadily deteriorating relationship between the two nations throughout 2024.  Allegations of a false-flag operation further inflamed the situation, pushing the two nuclear powers to the brink.\n",
            "\n",
            "This conflict, the most intense military engagement between India and Pakistan in recent history, underscores the critical need for proactive diplomatic solutions and a deeper understanding of the complex geopolitical dynamics at play.  The rapid escalation highlights the potential for even seemingly localized events to spiral into wider conflicts with devastating global implications.\n",
            "\n",
            "For professionals in international relations, defense strategy, and conflict resolution, the 2025 crisis presents a critical case study.  Analyzing the events leading up to the conflict, the strategic decisions made by both sides, and the ultimate outcome is crucial for developing effective preventative measures and conflict mitigation strategies in the future.  We must learn from this near-miss to prevent similar escalations and build a more secure and stable world.\n",
            "\n",
            "Let's discuss: What lessons can we learn from the 2025 India-Pakistan conflict?  Share your insights in the comments.\n",
            "\n",
            "#Geopolitics #InternationalRelations #IndiaPakistan #ConflictResolution #DefenseStrategy #GlobalSecurity #StrategicStudies #CrisisManagement #SouthAsia #NuclearProliferation\n",
            "fb:\n",
            " 🤯  A Month That Shook the World: The 2025 India-Pakistan Conflict\n",
            "\n",
            "The escalating tensions between India and Pakistan weren't just headlines; they culminated in a devastatingly short but intensely impactful military conflict in May-June 2025.  What started with a terrorist attack on April 22nd and India's subsequent response spiraled into the most serious military engagement between the two nations in recent history.  This wasn't just a flashpoint; years of deteriorating relations and accusations of deception fueled the flames.\n",
            "\n",
            "Think about it: a month-long conflict that dramatically reshaped the geopolitical landscape.  What were the long-term consequences? What lessons can we learn from this intense period?  Let's discuss in the comments! 👇\n",
            "\n",
            "#IndiaPakistanConflict #Geopolitics #InternationalRelations #MilitaryConflict #SouthAsia #GlobalSecurity\n",
            "twitter:\n",
            " India-Pakistan conflict (May-June 2025): A month of intense military engagement, triggered by escalating tensions & a terrorist attack.  Underlying political factors fueled this unprecedented crisis. #IndiaPakistanConflict #Geopolitics #SouthAsia #InternationalRelations #MilitaryConflict\n"
          ]
        }
      ]
    },
    {
      "cell_type": "code",
      "source": [],
      "metadata": {
        "id": "W12rkS84Btct"
      },
      "execution_count": 41,
      "outputs": []
    }
  ]
}